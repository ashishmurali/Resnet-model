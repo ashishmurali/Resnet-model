{
  "nbformat": 4,
  "nbformat_minor": 0,
  "metadata": {
    "colab": {
      "name": "Resnet-model.ipynb",
      "provenance": [],
      "collapsed_sections": [],
      "authorship_tag": "ABX9TyOAtm4O9rU8oLO8yIjCj644",
      "include_colab_link": true
    },
    "kernelspec": {
      "name": "python3",
      "display_name": "Python 3"
    },
    "accelerator": "GPU"
  },
  "cells": [
    {
      "cell_type": "markdown",
      "metadata": {
        "id": "view-in-github",
        "colab_type": "text"
      },
      "source": [
        "<a href=\"https://colab.research.google.com/github/ashishmurali/Resnet-model/blob/master/Resnet_model.ipynb\" target=\"_parent\"><img src=\"https://colab.research.google.com/assets/colab-badge.svg\" alt=\"Open In Colab\"/></a>"
      ]
    },
    {
      "cell_type": "code",
      "metadata": {
        "id": "NgH-hOmK0j8Y",
        "colab_type": "code",
        "colab": {
          "base_uri": "https://localhost:8080/",
          "height": 34
        },
        "outputId": "6be766bd-3a74-401c-eaa3-32448b831c0a"
      },
      "source": [
        "import numpy as np\n",
        "import tensorflow as tf\n",
        "from numpy import size\n",
        "from keras.layers import Input, Add, Dense, Activation, ZeroPadding2D, BatchNormalization, Flatten, Conv2D, AveragePooling2D, Lambda\n",
        "from keras.models import Model\n",
        "from keras.initializers import glorot_uniform\n",
        "from matplotlib import pyplot as plt\n",
        "\n",
        "import keras.backend as K\n",
        "K.set_image_data_format('channels_last')"
      ],
      "execution_count": 3,
      "outputs": [
        {
          "output_type": "stream",
          "text": [
            "Using TensorFlow backend.\n"
          ],
          "name": "stderr"
        }
      ]
    },
    {
      "cell_type": "code",
      "metadata": {
        "id": "Tl1d2LMl01U0",
        "colab_type": "code",
        "colab": {}
      },
      "source": [
        "def convert_to_one_hot(Y, C):\n",
        "    Y = np.eye(C)[Y.reshape(-1)].T\n",
        "    return Y"
      ],
      "execution_count": 0,
      "outputs": []
    },
    {
      "cell_type": "code",
      "metadata": {
        "id": "FbrJVEEI02e7",
        "colab_type": "code",
        "colab": {}
      },
      "source": [
        "def identity_block(X,f):\n",
        "    \n",
        "    X_shortcut = X\n",
        "    \n",
        "    # First component of main path\n",
        "    X = ZeroPadding2D((1,1))(X)\n",
        "    X = Conv2D(filters = f, kernel_size = (3, 3), strides = (1,1), padding = 'valid',  kernel_initializer = glorot_uniform())(X)\n",
        "    X = BatchNormalization(axis = 3)(X)\n",
        "    X = Activation('relu')(X)\n",
        "\n",
        "    # Second component of main path \n",
        "    X = ZeroPadding2D((1,1))(X)\n",
        "    X = Conv2D(filters = f, kernel_size = (3, 3), strides = (1,1), padding = 'valid',  kernel_initializer = glorot_uniform())(X)\n",
        "    X = BatchNormalization(axis = 3)(X)\n",
        "\n",
        "    # Add shortcut value to main path, and pass it through a RELU activation\n",
        "    X = Add()([X,X_shortcut])\n",
        "    X = Activation('relu')(X)\n",
        "    \n",
        "    return X"
      ],
      "execution_count": 0,
      "outputs": []
    },
    {
      "cell_type": "code",
      "metadata": {
        "id": "o2QI3X1J07Jm",
        "colab_type": "code",
        "colab": {}
      },
      "source": [
        "def downsampling_block(X, filters,pad):\n",
        "     \n",
        "    X_shortcut = X\n",
        "    \n",
        "    # First component of main path\n",
        "    X = ZeroPadding2D((1,1))(X)\n",
        "    X = Conv2D(filters = filters, kernel_size = (3, 3), strides = (2,2), padding = 'valid',  kernel_initializer = glorot_uniform())(X)\n",
        "    X = BatchNormalization(axis = 3)(X)\n",
        "    X = Activation('relu')(X)\n",
        "\n",
        "    # Second component of main path \n",
        "    X = ZeroPadding2D((1,1))(X)\n",
        "    X = Conv2D(filters = filters, kernel_size = (3, 3), strides = (1,1), padding = 'valid',  kernel_initializer = glorot_uniform())(X)\n",
        "    X = BatchNormalization(axis = 3)(X)\n",
        "\n",
        "    # downsampling\n",
        "    X_shortcut = Lambda(lambda x: x[:,0:int(size(x,1)/2), 0:int(size(x,2)/2),:])(X_shortcut)\n",
        "    X_shortcut = ZeroPadding2D((0,pad),data_format=\"channels_first\")(X_shortcut) \n",
        "\n",
        "    # Add shortcut value to main path, and pass it through a RELU activation\n",
        "    X = Add()([X,X_shortcut])\n",
        "    X = Activation('relu')(X)\n",
        "    \n",
        "    \n",
        "    return X"
      ],
      "execution_count": 0,
      "outputs": []
    },
    {
      "cell_type": "code",
      "metadata": {
        "id": "CjK8jIu81EGh",
        "colab_type": "code",
        "colab": {}
      },
      "source": [
        "def bottleneck_identity_block(X,filters):\n",
        "    \n",
        "    F1, F2, F3 = filters\n",
        "    \n",
        "    X_shortcut = X\n",
        "    \n",
        "    # First component of main path\n",
        "    X = Conv2D(filters = F1, kernel_size = (1, 1), strides = (1,1), padding = 'valid' ,kernel_initializer = glorot_uniform())(X)\n",
        "    X = BatchNormalization(axis = 3)(X)\n",
        "    X = Activation('relu')(X)\n",
        "    \n",
        "    # Second component of main path \n",
        "    X = Conv2D(filters = F2, kernel_size = (3, 3), strides = (1,1), padding = 'same', kernel_initializer = glorot_uniform())(X)\n",
        "    X = BatchNormalization(axis = 3)(X)\n",
        "    X = Activation('relu')(X)\n",
        "\n",
        "    # Third component of main path\n",
        "    X = Conv2D(filters = F3, kernel_size = (1, 1), strides = (1,1), padding = 'valid', kernel_initializer = glorot_uniform())(X)\n",
        "    X = BatchNormalization(axis = 3)(X)\n",
        "\n",
        "    # Add shortcut value to main path, and pass it through a RELU activation\n",
        "    X = Add()([X,X_shortcut])\n",
        "    X = Activation('relu')(X)\n",
        "    \n",
        "    return X"
      ],
      "execution_count": 0,
      "outputs": []
    },
    {
      "cell_type": "code",
      "metadata": {
        "id": "sOx5eny01F9B",
        "colab_type": "code",
        "colab": {}
      },
      "source": [
        "def bottleneck_downsampling_block(X,filters, s = 2,pad=8):\n",
        "    \n",
        "    F1, F2, F3 = filters\n",
        "    \n",
        "    X_shortcut = X\n",
        "\n",
        "    # First component of main path \n",
        "    X = Conv2D(F1, (1, 1), strides = (s,s),padding = 'valid', kernel_initializer = glorot_uniform())(X)\n",
        "    X = BatchNormalization(axis = 3)(X)\n",
        "    X = Activation('relu')(X)\n",
        "\n",
        "    # Second component of main path \n",
        "    X = Conv2D(F2, (3,3), strides = (1,1), padding = 'same', kernel_initializer = glorot_uniform())(X)\n",
        "    X = BatchNormalization(axis = 3)(X)\n",
        "    X = Activation('relu')(X)\n",
        "\n",
        "    # Third component of main path \n",
        "    X = Conv2D(F3, (1, 1), strides = (1,1), padding = 'valid', kernel_initializer = glorot_uniform())(X)\n",
        "    X = BatchNormalization(axis = 3)(X)\n",
        "\n",
        "    if s==2:\n",
        "      X_shortcut = Lambda(lambda x: x[:,0:int(size(x,1)/2), 0:int(size(x,2)/2),:])(X_shortcut)\n",
        "    X_shortcut = ZeroPadding2D((0,pad),data_format=\"channels_first\")(X_shortcut) \n",
        "\n",
        "    # Add shortcut value to main path, and pass it through a RELU activation\n",
        "    X = Add()([X,X_shortcut])\n",
        "    X = Activation('relu')(X)\n",
        "    \n",
        "    return X"
      ],
      "execution_count": 0,
      "outputs": []
    },
    {
      "cell_type": "code",
      "metadata": {
        "id": "rHtCQU7g1KGJ",
        "colab_type": "code",
        "colab": {}
      },
      "source": [
        "def ResNet(input_shape = (32, 32, 3), classes = 10,type='basic'):\n",
        "\n",
        "    if type == 'basic':\n",
        "\n",
        "      # if type = basic our ResNet will be a 32 weighted layers model with basic residual block\n",
        "      X_input = Input(input_shape)\n",
        "      \n",
        "      # 1st layer\n",
        "      X = ZeroPadding2D((1,1))(X_input)\n",
        "      X = Conv2D(16, (3,3), strides = (1, 1),padding='valid', kernel_initializer = glorot_uniform())(X)\n",
        "      X = BatchNormalization(axis = 3)(X)\n",
        "      X = Activation('relu')(X)\n",
        "\n",
        "      \n",
        "      X = identity_block(X,16)\n",
        "      X = identity_block(X,16)\n",
        "      X = identity_block(X,16)\n",
        "      X = identity_block(X,16)\n",
        "      X = identity_block(X,16)\n",
        "\n",
        "      X = downsampling_block(X,32,8)\n",
        "      X = identity_block(X,32)\n",
        "      X = identity_block(X,32)\n",
        "      X = identity_block(X,32)\n",
        "      X = identity_block(X,32)\n",
        "\n",
        "      X = downsampling_block(X,64,16)\n",
        "      X = identity_block(X,64)\n",
        "      X = identity_block(X,64)\n",
        "      X = identity_block(X,64)\n",
        "      X = identity_block(X,64)\n",
        "\n",
        "      X = AveragePooling2D((2,2))(X)\n",
        "\n",
        "      X = Flatten()(X)\n",
        "\n",
        "      X = Dense(classes, activation='softmax',  kernel_initializer = glorot_uniform())(X)\n",
        "      \n",
        "      # Create model\n",
        "      model = Model(inputs = X_input, outputs = X, name='ResNet32')\n",
        "      \n",
        "    if type== 'bottleneck':\n",
        "      # if type = bottleneck out ResNet will be a 50 weighted layer network with bottleneck residual blocks\n",
        "      X_input = Input(input_shape)\n",
        "      \n",
        "      X = ZeroPadding2D((1, 1))(X_input)\n",
        "      \n",
        "      # Layer 1\n",
        "      X = Conv2D(16, (3, 3), strides = (1, 1),padding='valid', kernel_initializer = glorot_uniform())(X)\n",
        "      X = BatchNormalization(axis = 3)(X)\n",
        "      X = Activation('relu')(X)\n",
        "\n",
        "      X = bottleneck_downsampling_block(X, filters = [16, 16, 64],s = 1,pad =24)\n",
        "      X = bottleneck_identity_block(X,[16, 16, 64])\n",
        "      X = bottleneck_identity_block(X,[16, 16, 64])\n",
        "\n",
        "      X = bottleneck_downsampling_block(X, filters = [32,32,128],s = 2,pad =32)\n",
        "      X = bottleneck_identity_block(X, [32,32,128])\n",
        "      X = bottleneck_identity_block(X, [32,32,128])\n",
        "      X = bottleneck_identity_block(X, [32,32,128])\n",
        "\n",
        "      X = bottleneck_downsampling_block(X, filters = [64,64,256], s = 2,pad=64)\n",
        "      X = bottleneck_identity_block(X,  [64,64,256])\n",
        "      X = bottleneck_identity_block(X,  [64,64,256])\n",
        "      X = bottleneck_identity_block(X,  [64,64,256])\n",
        "      X = bottleneck_identity_block(X,  [64,64,256])\n",
        "      X = bottleneck_identity_block(X,  [64,64,256])\n",
        "\n",
        "      X = bottleneck_downsampling_block(X, filters = [128,128,512], s = 2,pad =128)\n",
        "      X = bottleneck_identity_block(X, [128,128,512])\n",
        "      X = bottleneck_identity_block(X, [128,128,512])\n",
        "\n",
        "      X = AveragePooling2D((2,2))(X)\n",
        "\n",
        "      X = Flatten()(X)\n",
        "\n",
        "      X = Dense(classes, activation='softmax', kernel_initializer = glorot_uniform())(X)\n",
        "\n",
        "      # Create model\n",
        "      model = Model(inputs = X_input, outputs = X, name='ResNet50')   \n",
        "\n",
        "\n",
        "    return model"
      ],
      "execution_count": 0,
      "outputs": []
    },
    {
      "cell_type": "code",
      "metadata": {
        "id": "7rC3T20v1X7i",
        "colab_type": "code",
        "colab": {}
      },
      "source": [
        "# basic residual block\n",
        "model1 = ResNet(input_shape = (32, 32, 3), classes = 10,type='basic')"
      ],
      "execution_count": 0,
      "outputs": []
    },
    {
      "cell_type": "code",
      "metadata": {
        "id": "smW70GrZ1hPG",
        "colab_type": "code",
        "colab": {}
      },
      "source": [
        "model1.compile(optimizer='adam', loss='categorical_crossentropy', metrics=['accuracy'])"
      ],
      "execution_count": 0,
      "outputs": []
    },
    {
      "cell_type": "code",
      "metadata": {
        "id": "Wx337PKy1ltM",
        "colab_type": "code",
        "colab": {
          "base_uri": "https://localhost:8080/",
          "height": 50
        },
        "outputId": "43446163-3ade-4b24-9a43-586b88e06eb6"
      },
      "source": [
        "(x_train_origin, y_train_origin), (x_test_origin, y_test_origin) = tf.keras.datasets.cifar10.load_data()\n",
        "x_train = x_train_origin/255.\n",
        "x_test = x_test_origin/255.\n",
        "y_train = convert_to_one_hot(y_train_origin, 10).T\n",
        "y_test = convert_to_one_hot(y_test_origin, 10).T"
      ],
      "execution_count": 11,
      "outputs": [
        {
          "output_type": "stream",
          "text": [
            "Downloading data from https://www.cs.toronto.edu/~kriz/cifar-10-python.tar.gz\n",
            "170500096/170498071 [==============================] - 2s 0us/step\n"
          ],
          "name": "stdout"
        }
      ]
    },
    {
      "cell_type": "code",
      "metadata": {
        "id": "J7l1sKYv6cgC",
        "colab_type": "code",
        "colab": {
          "base_uri": "https://localhost:8080/",
          "height": 1000
        },
        "outputId": "dcc7b72e-81be-4b08-f2bc-7296ceb79c37"
      },
      "source": [
        "h = model1.fit(x_train, y_train,validation_data=(x_test, y_test),epochs=80, batch_size=128)"
      ],
      "execution_count": 21,
      "outputs": [
        {
          "output_type": "stream",
          "text": [
            "Train on 50000 samples, validate on 10000 samples\n",
            "Epoch 1/80\n",
            "50000/50000 [==============================] - 39s 773us/step - loss: 1.7526 - accuracy: 0.4005 - val_loss: 1.9852 - val_accuracy: 0.3213\n",
            "Epoch 2/80\n",
            "50000/50000 [==============================] - 31s 625us/step - loss: 1.2484 - accuracy: 0.5605 - val_loss: 1.4031 - val_accuracy: 0.5200\n",
            "Epoch 3/80\n",
            "50000/50000 [==============================] - 31s 616us/step - loss: 1.0078 - accuracy: 0.6464 - val_loss: 1.1518 - val_accuracy: 0.6057\n",
            "Epoch 4/80\n",
            "50000/50000 [==============================] - 31s 615us/step - loss: 0.8560 - accuracy: 0.7004 - val_loss: 1.0755 - val_accuracy: 0.6569\n",
            "Epoch 5/80\n",
            "50000/50000 [==============================] - 31s 616us/step - loss: 0.7389 - accuracy: 0.7418 - val_loss: 1.1405 - val_accuracy: 0.6361\n",
            "Epoch 6/80\n",
            "50000/50000 [==============================] - 31s 619us/step - loss: 0.6532 - accuracy: 0.7714 - val_loss: 1.0209 - val_accuracy: 0.6581\n",
            "Epoch 7/80\n",
            "50000/50000 [==============================] - 31s 625us/step - loss: 0.5659 - accuracy: 0.8029 - val_loss: 1.0270 - val_accuracy: 0.6816\n",
            "Epoch 8/80\n",
            "50000/50000 [==============================] - 31s 624us/step - loss: 0.4986 - accuracy: 0.8257 - val_loss: 0.8598 - val_accuracy: 0.7216\n",
            "Epoch 9/80\n",
            "50000/50000 [==============================] - 31s 623us/step - loss: 0.4391 - accuracy: 0.8475 - val_loss: 1.0956 - val_accuracy: 0.6725\n",
            "Epoch 10/80\n",
            "50000/50000 [==============================] - 31s 617us/step - loss: 0.3837 - accuracy: 0.8657 - val_loss: 0.9181 - val_accuracy: 0.7311\n",
            "Epoch 11/80\n",
            "50000/50000 [==============================] - 31s 615us/step - loss: 0.3321 - accuracy: 0.8845 - val_loss: 0.9272 - val_accuracy: 0.7172\n",
            "Epoch 12/80\n",
            "50000/50000 [==============================] - 31s 623us/step - loss: 0.2897 - accuracy: 0.8964 - val_loss: 0.9620 - val_accuracy: 0.7154\n",
            "Epoch 13/80\n",
            "50000/50000 [==============================] - 31s 626us/step - loss: 0.2478 - accuracy: 0.9119 - val_loss: 1.1967 - val_accuracy: 0.6833\n",
            "Epoch 14/80\n",
            "50000/50000 [==============================] - 31s 627us/step - loss: 0.2055 - accuracy: 0.9260 - val_loss: 0.9385 - val_accuracy: 0.7432\n",
            "Epoch 15/80\n",
            "50000/50000 [==============================] - 31s 622us/step - loss: 0.1883 - accuracy: 0.9333 - val_loss: 0.9772 - val_accuracy: 0.7345\n",
            "Epoch 16/80\n",
            "50000/50000 [==============================] - 31s 619us/step - loss: 0.1512 - accuracy: 0.9456 - val_loss: 1.2154 - val_accuracy: 0.7162\n",
            "Epoch 17/80\n",
            "50000/50000 [==============================] - 31s 618us/step - loss: 0.1431 - accuracy: 0.9491 - val_loss: 1.3050 - val_accuracy: 0.7075\n",
            "Epoch 18/80\n",
            "50000/50000 [==============================] - 31s 622us/step - loss: 0.1249 - accuracy: 0.9557 - val_loss: 1.0537 - val_accuracy: 0.7608\n",
            "Epoch 19/80\n",
            "50000/50000 [==============================] - 31s 620us/step - loss: 0.1144 - accuracy: 0.9590 - val_loss: 1.6359 - val_accuracy: 0.6915\n",
            "Epoch 20/80\n",
            "50000/50000 [==============================] - 31s 620us/step - loss: 0.1055 - accuracy: 0.9628 - val_loss: 1.1447 - val_accuracy: 0.7492\n",
            "Epoch 21/80\n",
            "50000/50000 [==============================] - 31s 620us/step - loss: 0.0928 - accuracy: 0.9670 - val_loss: 1.6275 - val_accuracy: 0.6905\n",
            "Epoch 22/80\n",
            "50000/50000 [==============================] - 31s 621us/step - loss: 0.0849 - accuracy: 0.9703 - val_loss: 1.5083 - val_accuracy: 0.7138\n",
            "Epoch 23/80\n",
            "50000/50000 [==============================] - 31s 622us/step - loss: 0.0771 - accuracy: 0.9731 - val_loss: 1.2499 - val_accuracy: 0.7476\n",
            "Epoch 24/80\n",
            "50000/50000 [==============================] - 31s 622us/step - loss: 0.0898 - accuracy: 0.9682 - val_loss: 1.4665 - val_accuracy: 0.7349\n",
            "Epoch 25/80\n",
            "50000/50000 [==============================] - 31s 622us/step - loss: 0.0819 - accuracy: 0.9708 - val_loss: 1.2482 - val_accuracy: 0.7562\n",
            "Epoch 26/80\n",
            "50000/50000 [==============================] - 31s 623us/step - loss: 0.0681 - accuracy: 0.9762 - val_loss: 1.5594 - val_accuracy: 0.7282\n",
            "Epoch 27/80\n",
            "50000/50000 [==============================] - 31s 624us/step - loss: 0.0633 - accuracy: 0.9780 - val_loss: 1.3936 - val_accuracy: 0.7448\n",
            "Epoch 28/80\n",
            "50000/50000 [==============================] - 31s 623us/step - loss: 0.0658 - accuracy: 0.9769 - val_loss: 1.5438 - val_accuracy: 0.7391\n",
            "Epoch 29/80\n",
            "50000/50000 [==============================] - 31s 623us/step - loss: 0.0688 - accuracy: 0.9757 - val_loss: 1.3494 - val_accuracy: 0.7373\n",
            "Epoch 30/80\n",
            "50000/50000 [==============================] - 31s 622us/step - loss: 0.0597 - accuracy: 0.9791 - val_loss: 1.2902 - val_accuracy: 0.7542\n",
            "Epoch 31/80\n",
            "50000/50000 [==============================] - 31s 622us/step - loss: 0.0546 - accuracy: 0.9802 - val_loss: 1.3707 - val_accuracy: 0.7490\n",
            "Epoch 32/80\n",
            "50000/50000 [==============================] - 31s 622us/step - loss: 0.0577 - accuracy: 0.9795 - val_loss: 1.2742 - val_accuracy: 0.7618\n",
            "Epoch 33/80\n",
            "50000/50000 [==============================] - 31s 624us/step - loss: 0.0649 - accuracy: 0.9769 - val_loss: 1.5042 - val_accuracy: 0.7430\n",
            "Epoch 34/80\n",
            "50000/50000 [==============================] - 31s 623us/step - loss: 0.0496 - accuracy: 0.9817 - val_loss: 1.4224 - val_accuracy: 0.7505\n",
            "Epoch 35/80\n",
            "50000/50000 [==============================] - 31s 625us/step - loss: 0.0434 - accuracy: 0.9845 - val_loss: 1.4782 - val_accuracy: 0.7492\n",
            "Epoch 36/80\n",
            "50000/50000 [==============================] - 31s 625us/step - loss: 0.0511 - accuracy: 0.9821 - val_loss: 1.2948 - val_accuracy: 0.7510\n",
            "Epoch 37/80\n",
            "50000/50000 [==============================] - 31s 624us/step - loss: 0.0487 - accuracy: 0.9834 - val_loss: 1.5176 - val_accuracy: 0.7537\n",
            "Epoch 38/80\n",
            "50000/50000 [==============================] - 31s 624us/step - loss: 0.0428 - accuracy: 0.9845 - val_loss: 1.3512 - val_accuracy: 0.7594\n",
            "Epoch 39/80\n",
            "50000/50000 [==============================] - 31s 625us/step - loss: 0.0392 - accuracy: 0.9869 - val_loss: 1.5993 - val_accuracy: 0.7498\n",
            "Epoch 40/80\n",
            "50000/50000 [==============================] - 31s 621us/step - loss: 0.0493 - accuracy: 0.9831 - val_loss: 1.5780 - val_accuracy: 0.7216\n",
            "Epoch 41/80\n",
            "50000/50000 [==============================] - 31s 614us/step - loss: 0.0488 - accuracy: 0.9828 - val_loss: 1.9092 - val_accuracy: 0.7108\n",
            "Epoch 42/80\n",
            "50000/50000 [==============================] - 31s 613us/step - loss: 0.0367 - accuracy: 0.9869 - val_loss: 1.4666 - val_accuracy: 0.7574\n",
            "Epoch 43/80\n",
            "50000/50000 [==============================] - 31s 614us/step - loss: 0.0380 - accuracy: 0.9865 - val_loss: 1.6852 - val_accuracy: 0.7272\n",
            "Epoch 44/80\n",
            "50000/50000 [==============================] - 31s 615us/step - loss: 0.0440 - accuracy: 0.9847 - val_loss: 1.5774 - val_accuracy: 0.7468\n",
            "Epoch 45/80\n",
            "50000/50000 [==============================] - 31s 615us/step - loss: 0.0465 - accuracy: 0.9839 - val_loss: 1.6332 - val_accuracy: 0.7483\n",
            "Epoch 46/80\n",
            "50000/50000 [==============================] - 31s 616us/step - loss: 0.0309 - accuracy: 0.9891 - val_loss: 1.4232 - val_accuracy: 0.7640\n",
            "Epoch 47/80\n",
            "50000/50000 [==============================] - 31s 615us/step - loss: 0.0306 - accuracy: 0.9891 - val_loss: 1.6764 - val_accuracy: 0.7527\n",
            "Epoch 48/80\n",
            "50000/50000 [==============================] - 31s 624us/step - loss: 0.0362 - accuracy: 0.9875 - val_loss: 1.6635 - val_accuracy: 0.7396\n",
            "Epoch 49/80\n",
            "50000/50000 [==============================] - 31s 627us/step - loss: 0.0342 - accuracy: 0.9877 - val_loss: 1.5388 - val_accuracy: 0.7500\n",
            "Epoch 50/80\n",
            "50000/50000 [==============================] - 31s 623us/step - loss: 0.0400 - accuracy: 0.9855 - val_loss: 1.6515 - val_accuracy: 0.7633\n",
            "Epoch 51/80\n",
            "50000/50000 [==============================] - 31s 622us/step - loss: 0.0278 - accuracy: 0.9900 - val_loss: 1.3947 - val_accuracy: 0.7798\n",
            "Epoch 52/80\n",
            "50000/50000 [==============================] - 31s 620us/step - loss: 0.0168 - accuracy: 0.9945 - val_loss: 1.6175 - val_accuracy: 0.7615\n",
            "Epoch 53/80\n",
            "50000/50000 [==============================] - 31s 620us/step - loss: 0.0510 - accuracy: 0.9827 - val_loss: 1.5450 - val_accuracy: 0.7525\n",
            "Epoch 54/80\n",
            "50000/50000 [==============================] - 31s 620us/step - loss: 0.0310 - accuracy: 0.9891 - val_loss: 1.3782 - val_accuracy: 0.7750\n",
            "Epoch 55/80\n",
            "50000/50000 [==============================] - 31s 623us/step - loss: 0.0227 - accuracy: 0.9920 - val_loss: 1.3930 - val_accuracy: 0.7867\n",
            "Epoch 56/80\n",
            "50000/50000 [==============================] - 31s 621us/step - loss: 0.0233 - accuracy: 0.9918 - val_loss: 1.5190 - val_accuracy: 0.7704\n",
            "Epoch 57/80\n",
            "50000/50000 [==============================] - 31s 621us/step - loss: 0.0379 - accuracy: 0.9871 - val_loss: 1.7173 - val_accuracy: 0.7505\n",
            "Epoch 58/80\n",
            "50000/50000 [==============================] - 31s 624us/step - loss: 0.0327 - accuracy: 0.9889 - val_loss: 1.3975 - val_accuracy: 0.7664\n",
            "Epoch 59/80\n",
            "50000/50000 [==============================] - 31s 623us/step - loss: 0.0269 - accuracy: 0.9907 - val_loss: 1.4809 - val_accuracy: 0.7670\n",
            "Epoch 60/80\n",
            "50000/50000 [==============================] - 31s 621us/step - loss: 0.0324 - accuracy: 0.9887 - val_loss: 1.5281 - val_accuracy: 0.7620\n",
            "Epoch 61/80\n",
            "50000/50000 [==============================] - 31s 621us/step - loss: 0.0263 - accuracy: 0.9904 - val_loss: 1.5960 - val_accuracy: 0.7585\n",
            "Epoch 62/80\n",
            "50000/50000 [==============================] - 31s 622us/step - loss: 0.0200 - accuracy: 0.9931 - val_loss: 1.6334 - val_accuracy: 0.7593\n",
            "Epoch 63/80\n",
            "50000/50000 [==============================] - 31s 621us/step - loss: 0.0282 - accuracy: 0.9900 - val_loss: 1.6838 - val_accuracy: 0.7589\n",
            "Epoch 64/80\n",
            "50000/50000 [==============================] - 31s 621us/step - loss: 0.0294 - accuracy: 0.9896 - val_loss: 1.5208 - val_accuracy: 0.7663\n",
            "Epoch 65/80\n",
            "50000/50000 [==============================] - 31s 621us/step - loss: 0.0254 - accuracy: 0.9911 - val_loss: 1.4138 - val_accuracy: 0.7738\n",
            "Epoch 66/80\n",
            "50000/50000 [==============================] - 31s 624us/step - loss: 0.0218 - accuracy: 0.9924 - val_loss: 1.6347 - val_accuracy: 0.7603\n",
            "Epoch 67/80\n",
            "50000/50000 [==============================] - 31s 621us/step - loss: 0.0246 - accuracy: 0.9918 - val_loss: 1.7326 - val_accuracy: 0.7389\n",
            "Epoch 68/80\n",
            "50000/50000 [==============================] - 31s 622us/step - loss: 0.0302 - accuracy: 0.9892 - val_loss: 1.5521 - val_accuracy: 0.7619\n",
            "Epoch 69/80\n",
            "50000/50000 [==============================] - 31s 622us/step - loss: 0.0204 - accuracy: 0.9930 - val_loss: 1.6428 - val_accuracy: 0.7589\n",
            "Epoch 70/80\n",
            "50000/50000 [==============================] - 31s 623us/step - loss: 0.0230 - accuracy: 0.9919 - val_loss: 1.5734 - val_accuracy: 0.7681\n",
            "Epoch 71/80\n",
            "50000/50000 [==============================] - 31s 621us/step - loss: 0.0209 - accuracy: 0.9927 - val_loss: 1.5405 - val_accuracy: 0.7635\n",
            "Epoch 72/80\n",
            "50000/50000 [==============================] - 31s 621us/step - loss: 0.0296 - accuracy: 0.9899 - val_loss: 1.5253 - val_accuracy: 0.7777\n",
            "Epoch 73/80\n",
            "50000/50000 [==============================] - 31s 621us/step - loss: 0.0196 - accuracy: 0.9928 - val_loss: 1.5894 - val_accuracy: 0.7669\n",
            "Epoch 74/80\n",
            "50000/50000 [==============================] - 31s 621us/step - loss: 0.0132 - accuracy: 0.9952 - val_loss: 1.5699 - val_accuracy: 0.7818\n",
            "Epoch 75/80\n",
            "50000/50000 [==============================] - 31s 622us/step - loss: 0.0234 - accuracy: 0.9915 - val_loss: 1.6346 - val_accuracy: 0.7647\n",
            "Epoch 76/80\n",
            "50000/50000 [==============================] - 31s 621us/step - loss: 0.0330 - accuracy: 0.9889 - val_loss: 1.6684 - val_accuracy: 0.7547\n",
            "Epoch 77/80\n",
            "50000/50000 [==============================] - 31s 611us/step - loss: 0.0194 - accuracy: 0.9935 - val_loss: 1.8235 - val_accuracy: 0.7627\n",
            "Epoch 78/80\n",
            "50000/50000 [==============================] - 31s 611us/step - loss: 0.0173 - accuracy: 0.9940 - val_loss: 1.5420 - val_accuracy: 0.7797\n",
            "Epoch 79/80\n",
            "50000/50000 [==============================] - 31s 611us/step - loss: 0.0195 - accuracy: 0.9929 - val_loss: 1.7954 - val_accuracy: 0.7565\n",
            "Epoch 80/80\n",
            "50000/50000 [==============================] - 31s 610us/step - loss: 0.0295 - accuracy: 0.9893 - val_loss: 1.4547 - val_accuracy: 0.7866\n"
          ],
          "name": "stdout"
        }
      ]
    },
    {
      "cell_type": "code",
      "metadata": {
        "id": "ktWCLFvI2BtA",
        "colab_type": "code",
        "colab": {
          "base_uri": "https://localhost:8080/",
          "height": 67
        },
        "outputId": "57299ebd-8d16-44c0-d3ee-d2717ee8d7f2"
      },
      "source": [
        "preds = model1.evaluate(x_test, y_test)\n",
        "print (\"Loss = \" + str(preds[0]))\n",
        "print (\"Test Accuracy = \" + str(preds[1]))"
      ],
      "execution_count": 22,
      "outputs": [
        {
          "output_type": "stream",
          "text": [
            "10000/10000 [==============================] - 3s 347us/step\n",
            "Loss = 1.45469256939888\n",
            "Test Accuracy = 0.7865999937057495\n"
          ],
          "name": "stdout"
        }
      ]
    },
    {
      "cell_type": "code",
      "metadata": {
        "id": "hkE-fL822F81",
        "colab_type": "code",
        "colab": {
          "base_uri": "https://localhost:8080/",
          "height": 265
        },
        "outputId": "9ade41b6-b15e-4210-a818-df86c79b01b1"
      },
      "source": [
        "losses = h.history['loss']\n",
        "accs = h.history['accuracy']\n",
        "val_losses = h.history['val_loss']\n",
        "val_accs = h.history['val_accuracy']\n",
        "epochs = len(losses)\n",
        "\n",
        "plt.figure(figsize=(12, 4))\n",
        "for i, metrics in enumerate(zip([losses, accs], [val_losses, val_accs], ['Loss', 'Accuracy'])):\n",
        "    plt.subplot(1, 2, i + 1)\n",
        "    plt.plot(range(epochs), metrics[0], label='Training {}'.format(metrics[2]))\n",
        "    plt.plot(range(epochs), metrics[1], label='Validation {}'.format(metrics[2]))\n",
        "    plt.legend()\n",
        "plt.show()"
      ],
      "execution_count": 23,
      "outputs": [
        {
          "output_type": "display_data",
          "data": {
            "image/png": "[encoded data removed]",
            "text/plain": [
              "<Figure size 864x288 with 2 Axes>"
            ]
          },
          "metadata": {
            "tags": [],
            "needs_background": "light"
          }
        }
      ]
    },
    {
      "cell_type": "code",
      "metadata": {
        "id": "v6N-elJKp22X",
        "colab_type": "code",
        "colab": {}
      },
      "source": [
        "# bottleneck residual block\n",
        "model2 = ResNet(input_shape = (32, 32, 3), classes = 10,type='bottleneck')"
      ],
      "execution_count": 0,
      "outputs": []
    },
    {
      "cell_type": "code",
      "metadata": {
        "id": "6RDg8d8rKBOb",
        "colab_type": "code",
        "colab": {}
      },
      "source": [
        "model2.compile(optimizer='adam', loss='categorical_crossentropy', metrics=['accuracy'])"
      ],
      "execution_count": 0,
      "outputs": []
    },
    {
      "cell_type": "code",
      "metadata": {
        "id": "IfnpiwTEKKfT",
        "colab_type": "code",
        "colab": {
          "base_uri": "https://localhost:8080/",
          "height": 1000
        },
        "outputId": "bd1034c1-6b79-438f-d125-c91934f02b82"
      },
      "source": [
        "H = model2.fit(x_train, y_train,validation_data=(x_test, y_test),epochs=80, batch_size=128)"
      ],
      "execution_count": 26,
      "outputs": [
        {
          "output_type": "stream",
          "text": [
            "Train on 50000 samples, validate on 10000 samples\n",
            "Epoch 1/80\n",
            "50000/50000 [==============================] - 61s 1ms/step - loss: 2.1025 - accuracy: 0.2928 - val_loss: 2.4701 - val_accuracy: 0.2445\n",
            "Epoch 2/80\n",
            "50000/50000 [==============================] - 47s 943us/step - loss: 1.5442 - accuracy: 0.4466 - val_loss: 1.7584 - val_accuracy: 0.4481\n",
            "Epoch 3/80\n",
            "50000/50000 [==============================] - 47s 945us/step - loss: 1.3217 - accuracy: 0.5304 - val_loss: 1.3549 - val_accuracy: 0.5099\n",
            "Epoch 4/80\n",
            "50000/50000 [==============================] - 47s 946us/step - loss: 1.1443 - accuracy: 0.5946 - val_loss: 1.5236 - val_accuracy: 0.5537\n",
            "Epoch 5/80\n",
            "50000/50000 [==============================] - 47s 944us/step - loss: 0.9979 - accuracy: 0.6469 - val_loss: 1.2597 - val_accuracy: 0.5742\n",
            "Epoch 6/80\n",
            "50000/50000 [==============================] - 47s 943us/step - loss: 0.8596 - accuracy: 0.6959 - val_loss: 1.3001 - val_accuracy: 0.5841\n",
            "Epoch 7/80\n",
            "50000/50000 [==============================] - 47s 941us/step - loss: 0.7613 - accuracy: 0.7325 - val_loss: 1.1248 - val_accuracy: 0.6230\n",
            "Epoch 8/80\n",
            "50000/50000 [==============================] - 47s 940us/step - loss: 0.6684 - accuracy: 0.7637 - val_loss: 1.2073 - val_accuracy: 0.6315\n",
            "Epoch 9/80\n",
            "50000/50000 [==============================] - 47s 946us/step - loss: 0.5737 - accuracy: 0.7969 - val_loss: 1.3195 - val_accuracy: 0.6487\n",
            "Epoch 10/80\n",
            "50000/50000 [==============================] - 47s 943us/step - loss: 0.5030 - accuracy: 0.8232 - val_loss: 1.6208 - val_accuracy: 0.6132\n",
            "Epoch 11/80\n",
            "50000/50000 [==============================] - 47s 940us/step - loss: 0.4319 - accuracy: 0.8486 - val_loss: 0.9983 - val_accuracy: 0.6909\n",
            "Epoch 12/80\n",
            "50000/50000 [==============================] - 47s 936us/step - loss: 0.3589 - accuracy: 0.8742 - val_loss: 1.0892 - val_accuracy: 0.6846\n",
            "Epoch 13/80\n",
            "50000/50000 [==============================] - 47s 936us/step - loss: 0.3024 - accuracy: 0.8927 - val_loss: 1.2586 - val_accuracy: 0.6715\n",
            "Epoch 14/80\n",
            "50000/50000 [==============================] - 47s 933us/step - loss: 0.2636 - accuracy: 0.9064 - val_loss: 1.3991 - val_accuracy: 0.6649\n",
            "Epoch 15/80\n",
            "50000/50000 [==============================] - 47s 932us/step - loss: 0.2282 - accuracy: 0.9194 - val_loss: 1.2399 - val_accuracy: 0.6750\n",
            "Epoch 16/80\n",
            "50000/50000 [==============================] - 47s 930us/step - loss: 0.1886 - accuracy: 0.9342 - val_loss: 1.3481 - val_accuracy: 0.6785\n",
            "Epoch 17/80\n",
            "50000/50000 [==============================] - 47s 932us/step - loss: 0.1796 - accuracy: 0.9374 - val_loss: 1.5947 - val_accuracy: 0.6680\n",
            "Epoch 18/80\n",
            "50000/50000 [==============================] - 46s 926us/step - loss: 0.1579 - accuracy: 0.9442 - val_loss: 1.5911 - val_accuracy: 0.6748\n",
            "Epoch 19/80\n",
            "50000/50000 [==============================] - 46s 925us/step - loss: 0.1437 - accuracy: 0.9490 - val_loss: 1.4130 - val_accuracy: 0.6813\n",
            "Epoch 20/80\n",
            "50000/50000 [==============================] - 46s 923us/step - loss: 0.1382 - accuracy: 0.9511 - val_loss: 1.5423 - val_accuracy: 0.6762\n",
            "Epoch 21/80\n",
            "50000/50000 [==============================] - 46s 921us/step - loss: 0.1323 - accuracy: 0.9542 - val_loss: 1.6123 - val_accuracy: 0.6725\n",
            "Epoch 22/80\n",
            "50000/50000 [==============================] - 46s 919us/step - loss: 0.1092 - accuracy: 0.9619 - val_loss: 1.4759 - val_accuracy: 0.6991\n",
            "Epoch 23/80\n",
            "50000/50000 [==============================] - 46s 911us/step - loss: 0.1118 - accuracy: 0.9614 - val_loss: 1.3732 - val_accuracy: 0.6936\n",
            "Epoch 24/80\n",
            "50000/50000 [==============================] - 46s 915us/step - loss: 0.0940 - accuracy: 0.9676 - val_loss: 1.3868 - val_accuracy: 0.7049\n",
            "Epoch 25/80\n",
            "50000/50000 [==============================] - 48s 952us/step - loss: 0.0912 - accuracy: 0.9690 - val_loss: 1.5981 - val_accuracy: 0.7006\n",
            "Epoch 26/80\n",
            "50000/50000 [==============================] - 47s 936us/step - loss: 0.1029 - accuracy: 0.9636 - val_loss: 1.4831 - val_accuracy: 0.7056\n",
            "Epoch 27/80\n",
            "50000/50000 [==============================] - 47s 931us/step - loss: 0.0943 - accuracy: 0.9669 - val_loss: 1.6338 - val_accuracy: 0.6986\n",
            "Epoch 28/80\n",
            "50000/50000 [==============================] - 46s 929us/step - loss: 0.0873 - accuracy: 0.9693 - val_loss: 1.6060 - val_accuracy: 0.6901\n",
            "Epoch 29/80\n",
            "50000/50000 [==============================] - 46s 926us/step - loss: 0.0848 - accuracy: 0.9710 - val_loss: 1.7827 - val_accuracy: 0.6883\n",
            "Epoch 30/80\n",
            "50000/50000 [==============================] - 46s 926us/step - loss: 0.0850 - accuracy: 0.9697 - val_loss: 1.7235 - val_accuracy: 0.6716\n",
            "Epoch 31/80\n",
            "50000/50000 [==============================] - 46s 926us/step - loss: 0.0789 - accuracy: 0.9729 - val_loss: 1.6321 - val_accuracy: 0.7003\n",
            "Epoch 32/80\n",
            "50000/50000 [==============================] - 46s 927us/step - loss: 0.0697 - accuracy: 0.9754 - val_loss: 1.9976 - val_accuracy: 0.6745\n",
            "Epoch 33/80\n",
            "50000/50000 [==============================] - 46s 925us/step - loss: 0.0697 - accuracy: 0.9761 - val_loss: 1.9704 - val_accuracy: 0.6681\n",
            "Epoch 34/80\n",
            "50000/50000 [==============================] - 46s 927us/step - loss: 0.0819 - accuracy: 0.9713 - val_loss: 1.7387 - val_accuracy: 0.6840\n",
            "Epoch 35/80\n",
            "50000/50000 [==============================] - 46s 926us/step - loss: 0.0661 - accuracy: 0.9771 - val_loss: 1.6944 - val_accuracy: 0.6995\n",
            "Epoch 36/80\n",
            "50000/50000 [==============================] - 46s 925us/step - loss: 0.0705 - accuracy: 0.9756 - val_loss: 1.6915 - val_accuracy: 0.7076\n",
            "Epoch 37/80\n",
            "50000/50000 [==============================] - 46s 927us/step - loss: 0.0579 - accuracy: 0.9799 - val_loss: 1.5815 - val_accuracy: 0.7062\n",
            "Epoch 38/80\n",
            "50000/50000 [==============================] - 46s 928us/step - loss: 0.0591 - accuracy: 0.9797 - val_loss: 1.5914 - val_accuracy: 0.7149\n",
            "Epoch 39/80\n",
            "50000/50000 [==============================] - 46s 926us/step - loss: 0.0648 - accuracy: 0.9782 - val_loss: 1.6524 - val_accuracy: 0.7138\n",
            "Epoch 40/80\n",
            "50000/50000 [==============================] - 46s 916us/step - loss: 0.0497 - accuracy: 0.9832 - val_loss: 1.7377 - val_accuracy: 0.7126\n",
            "Epoch 41/80\n",
            "50000/50000 [==============================] - 46s 916us/step - loss: 0.0546 - accuracy: 0.9821 - val_loss: 1.9838 - val_accuracy: 0.6821\n",
            "Epoch 42/80\n",
            "50000/50000 [==============================] - 46s 920us/step - loss: 0.0661 - accuracy: 0.9773 - val_loss: 1.6500 - val_accuracy: 0.7071\n",
            "Epoch 43/80\n",
            "50000/50000 [==============================] - 46s 912us/step - loss: 0.0540 - accuracy: 0.9814 - val_loss: 1.6841 - val_accuracy: 0.7126\n",
            "Epoch 44/80\n",
            "50000/50000 [==============================] - 45s 910us/step - loss: 0.0464 - accuracy: 0.9841 - val_loss: 1.7655 - val_accuracy: 0.7188\n",
            "Epoch 45/80\n",
            "50000/50000 [==============================] - 46s 911us/step - loss: 0.0631 - accuracy: 0.9777 - val_loss: 1.7545 - val_accuracy: 0.7154\n",
            "Epoch 46/80\n",
            "50000/50000 [==============================] - 46s 912us/step - loss: 0.0538 - accuracy: 0.9817 - val_loss: 1.6176 - val_accuracy: 0.7227\n",
            "Epoch 47/80\n",
            "50000/50000 [==============================] - 45s 906us/step - loss: 0.0402 - accuracy: 0.9858 - val_loss: 1.9599 - val_accuracy: 0.6939\n",
            "Epoch 48/80\n",
            "50000/50000 [==============================] - 45s 905us/step - loss: 0.0485 - accuracy: 0.9835 - val_loss: 1.8073 - val_accuracy: 0.7129\n",
            "Epoch 49/80\n",
            "50000/50000 [==============================] - 45s 907us/step - loss: 0.0499 - accuracy: 0.9835 - val_loss: 1.6131 - val_accuracy: 0.7226\n",
            "Epoch 50/80\n",
            "50000/50000 [==============================] - 45s 907us/step - loss: 0.0434 - accuracy: 0.9848 - val_loss: 1.8646 - val_accuracy: 0.7051\n",
            "Epoch 51/80\n",
            "50000/50000 [==============================] - 45s 905us/step - loss: 0.0502 - accuracy: 0.9828 - val_loss: 1.7894 - val_accuracy: 0.7161\n",
            "Epoch 52/80\n",
            "50000/50000 [==============================] - 45s 908us/step - loss: 0.0478 - accuracy: 0.9834 - val_loss: 1.8445 - val_accuracy: 0.7080\n",
            "Epoch 53/80\n",
            "50000/50000 [==============================] - 45s 906us/step - loss: 0.0365 - accuracy: 0.9870 - val_loss: 1.6849 - val_accuracy: 0.7194\n",
            "Epoch 54/80\n",
            "50000/50000 [==============================] - 45s 907us/step - loss: 0.0459 - accuracy: 0.9843 - val_loss: 1.8291 - val_accuracy: 0.6989\n",
            "Epoch 55/80\n",
            "50000/50000 [==============================] - 45s 905us/step - loss: 0.0556 - accuracy: 0.9814 - val_loss: 1.6322 - val_accuracy: 0.7270\n",
            "Epoch 56/80\n",
            "50000/50000 [==============================] - 45s 907us/step - loss: 0.0320 - accuracy: 0.9892 - val_loss: 1.7350 - val_accuracy: 0.7276\n",
            "Epoch 57/80\n",
            "50000/50000 [==============================] - 45s 903us/step - loss: 0.0306 - accuracy: 0.9893 - val_loss: 1.9061 - val_accuracy: 0.7128\n",
            "Epoch 58/80\n",
            "50000/50000 [==============================] - 45s 905us/step - loss: 0.0486 - accuracy: 0.9836 - val_loss: 1.6732 - val_accuracy: 0.7206\n",
            "Epoch 59/80\n",
            "50000/50000 [==============================] - 45s 906us/step - loss: 0.0402 - accuracy: 0.9865 - val_loss: 1.8550 - val_accuracy: 0.7149\n",
            "Epoch 60/80\n",
            "50000/50000 [==============================] - 45s 906us/step - loss: 0.0348 - accuracy: 0.9878 - val_loss: 1.7670 - val_accuracy: 0.7200\n",
            "Epoch 61/80\n",
            "50000/50000 [==============================] - 45s 906us/step - loss: 0.0409 - accuracy: 0.9859 - val_loss: 1.8079 - val_accuracy: 0.7274\n",
            "Epoch 62/80\n",
            "50000/50000 [==============================] - 45s 905us/step - loss: 0.0307 - accuracy: 0.9896 - val_loss: 1.8087 - val_accuracy: 0.7167\n",
            "Epoch 63/80\n",
            "50000/50000 [==============================] - 45s 908us/step - loss: 0.0454 - accuracy: 0.9850 - val_loss: 1.7576 - val_accuracy: 0.7267\n",
            "Epoch 64/80\n",
            "50000/50000 [==============================] - 45s 905us/step - loss: 0.0278 - accuracy: 0.9900 - val_loss: 1.8097 - val_accuracy: 0.7183\n",
            "Epoch 65/80\n",
            "50000/50000 [==============================] - 45s 905us/step - loss: 0.0367 - accuracy: 0.9870 - val_loss: 1.8634 - val_accuracy: 0.7133\n",
            "Epoch 66/80\n",
            "50000/50000 [==============================] - 45s 906us/step - loss: 0.0352 - accuracy: 0.9874 - val_loss: 1.7811 - val_accuracy: 0.7245\n",
            "Epoch 67/80\n",
            "50000/50000 [==============================] - 45s 905us/step - loss: 0.0355 - accuracy: 0.9879 - val_loss: 2.0770 - val_accuracy: 0.6975\n",
            "Epoch 68/80\n",
            "50000/50000 [==============================] - 45s 905us/step - loss: 0.0297 - accuracy: 0.9896 - val_loss: 1.8952 - val_accuracy: 0.7244\n",
            "Epoch 69/80\n",
            "50000/50000 [==============================] - 45s 905us/step - loss: 0.0332 - accuracy: 0.9888 - val_loss: 1.8391 - val_accuracy: 0.7160\n",
            "Epoch 70/80\n",
            "50000/50000 [==============================] - 45s 907us/step - loss: 0.0340 - accuracy: 0.9884 - val_loss: 1.9212 - val_accuracy: 0.7196\n",
            "Epoch 71/80\n",
            "50000/50000 [==============================] - 45s 905us/step - loss: 0.0367 - accuracy: 0.9876 - val_loss: 1.8797 - val_accuracy: 0.7216\n",
            "Epoch 72/80\n",
            "50000/50000 [==============================] - 45s 905us/step - loss: 0.0285 - accuracy: 0.9901 - val_loss: 1.8095 - val_accuracy: 0.7259\n",
            "Epoch 73/80\n",
            "50000/50000 [==============================] - 45s 905us/step - loss: 0.0244 - accuracy: 0.9919 - val_loss: 1.8383 - val_accuracy: 0.7303\n",
            "Epoch 74/80\n",
            "50000/50000 [==============================] - 45s 906us/step - loss: 0.0332 - accuracy: 0.9882 - val_loss: 1.8603 - val_accuracy: 0.7295\n",
            "Epoch 75/80\n",
            "50000/50000 [==============================] - 45s 904us/step - loss: 0.0361 - accuracy: 0.9875 - val_loss: 1.8121 - val_accuracy: 0.7349\n",
            "Epoch 76/80\n",
            "50000/50000 [==============================] - 45s 905us/step - loss: 0.0339 - accuracy: 0.9887 - val_loss: 1.8669 - val_accuracy: 0.7219\n",
            "Epoch 77/80\n",
            "50000/50000 [==============================] - 45s 907us/step - loss: 0.0229 - accuracy: 0.9925 - val_loss: 1.7898 - val_accuracy: 0.7349\n",
            "Epoch 78/80\n",
            "50000/50000 [==============================] - 45s 904us/step - loss: 0.0263 - accuracy: 0.9915 - val_loss: 1.9412 - val_accuracy: 0.7151\n",
            "Epoch 79/80\n",
            "50000/50000 [==============================] - 45s 906us/step - loss: 0.0250 - accuracy: 0.9913 - val_loss: 1.8813 - val_accuracy: 0.7317\n",
            "Epoch 80/80\n",
            "50000/50000 [==============================] - 45s 906us/step - loss: 0.0295 - accuracy: 0.9902 - val_loss: 2.0460 - val_accuracy: 0.7094\n"
          ],
          "name": "stdout"
        }
      ]
    },
    {
      "cell_type": "code",
      "metadata": {
        "id": "ObAwrhSDKQZY",
        "colab_type": "code",
        "colab": {
          "base_uri": "https://localhost:8080/",
          "height": 67
        },
        "outputId": "8ddf070e-7845-46a8-d424-cb8be037d312"
      },
      "source": [
        "preds = model2.evaluate(x_test, y_test)\n",
        "print (\"Loss = \" + str(preds[0]))\n",
        "print (\"Test Accuracy = \" + str(preds[1]))"
      ],
      "execution_count": 27,
      "outputs": [
        {
          "output_type": "stream",
          "text": [
            "10000/10000 [==============================] - 5s 473us/step\n",
            "Loss = 2.045984956932068\n",
            "Test Accuracy = 0.7093999981880188\n"
          ],
          "name": "stdout"
        }
      ]
    },
    {
      "cell_type": "code",
      "metadata": {
        "id": "s1GKtAXEKT2A",
        "colab_type": "code",
        "colab": {
          "base_uri": "https://localhost:8080/",
          "height": 265
        },
        "outputId": "51b54fd5-b21b-4b62-fc4b-709231e89e43"
      },
      "source": [
        "losses = H.history['loss']\n",
        "accs = H.history['accuracy']\n",
        "val_losses = H.history['val_loss']\n",
        "val_accs = H.history['val_accuracy']\n",
        "epochs = len(losses)\n",
        "\n",
        "plt.figure(figsize=(12, 4))\n",
        "for i, metrics in enumerate(zip([losses, accs], [val_losses, val_accs], ['Loss', 'Accuracy'])):\n",
        "    plt.subplot(1, 2, i + 1)\n",
        "    plt.plot(range(epochs), metrics[0], label='Training {}'.format(metrics[2]))\n",
        "    plt.plot(range(epochs), metrics[1], label='Validation {}'.format(metrics[2]))\n",
        "    plt.legend()\n",
        "plt.show()"
      ],
      "execution_count": 28,
      "outputs": [
        {
          "output_type": "display_data",
          "data": {
            "image/png": "[encoded data removed]",
            "text/plain": [
              "<Figure size 864x288 with 2 Axes>"
            ]
          },
          "metadata": {
            "tags": [],
            "needs_background": "light"
          }
        }
      ]
    },
    {
      "cell_type": "code",
      "metadata": {
        "id": "EQtJCJivo0VA",
        "colab_type": "code",
        "colab": {}
      },
      "source": [
        ""
      ],
      "execution_count": 0,
      "outputs": []
    }
  ]
}